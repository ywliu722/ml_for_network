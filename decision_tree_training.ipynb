{
 "cells": [
  {
   "attachments": {},
   "cell_type": "markdown",
   "metadata": {},
   "source": [
    "# Applications of ML for Networking Final Project\n",
    "---\n",
    "#### Name: 劉耀文 (Yao-Wen Liu)\n",
    "#### Student ID: 311551045\n",
    "---"
   ]
  },
  {
   "attachments": {},
   "cell_type": "markdown",
   "metadata": {},
   "source": [
    "## Data Input and library import"
   ]
  },
  {
   "cell_type": "code",
   "execution_count": 12,
   "metadata": {},
   "outputs": [
    {
     "data": {
      "text/html": [
       "<div>\n",
       "<style scoped>\n",
       "    .dataframe tbody tr th:only-of-type {\n",
       "        vertical-align: middle;\n",
       "    }\n",
       "\n",
       "    .dataframe tbody tr th {\n",
       "        vertical-align: top;\n",
       "    }\n",
       "\n",
       "    .dataframe thead th {\n",
       "        text-align: right;\n",
       "    }\n",
       "</style>\n",
       "<table border=\"1\" class=\"dataframe\">\n",
       "  <thead>\n",
       "    <tr style=\"text-align: right;\">\n",
       "      <th></th>\n",
       "      <th>NSS</th>\n",
       "      <th>MCS</th>\n",
       "      <th>GI</th>\n",
       "      <th>throughput</th>\n",
       "      <th>airtime_per</th>\n",
       "      <th>other_per</th>\n",
       "    </tr>\n",
       "  </thead>\n",
       "  <tbody>\n",
       "    <tr>\n",
       "      <th>0</th>\n",
       "      <td>2</td>\n",
       "      <td>6</td>\n",
       "      <td>1</td>\n",
       "      <td>51.055077</td>\n",
       "      <td>0.075920</td>\n",
       "      <td>0.0</td>\n",
       "    </tr>\n",
       "    <tr>\n",
       "      <th>1</th>\n",
       "      <td>2</td>\n",
       "      <td>7</td>\n",
       "      <td>1</td>\n",
       "      <td>50.742508</td>\n",
       "      <td>0.093920</td>\n",
       "      <td>0.0</td>\n",
       "    </tr>\n",
       "    <tr>\n",
       "      <th>2</th>\n",
       "      <td>1</td>\n",
       "      <td>9</td>\n",
       "      <td>1</td>\n",
       "      <td>51.897148</td>\n",
       "      <td>0.093228</td>\n",
       "      <td>0.0</td>\n",
       "    </tr>\n",
       "    <tr>\n",
       "      <th>3</th>\n",
       "      <td>2</td>\n",
       "      <td>8</td>\n",
       "      <td>1</td>\n",
       "      <td>49.850716</td>\n",
       "      <td>0.095052</td>\n",
       "      <td>0.0</td>\n",
       "    </tr>\n",
       "    <tr>\n",
       "      <th>4</th>\n",
       "      <td>2</td>\n",
       "      <td>5</td>\n",
       "      <td>1</td>\n",
       "      <td>51.727776</td>\n",
       "      <td>0.100688</td>\n",
       "      <td>0.0</td>\n",
       "    </tr>\n",
       "    <tr>\n",
       "      <th>...</th>\n",
       "      <td>...</td>\n",
       "      <td>...</td>\n",
       "      <td>...</td>\n",
       "      <td>...</td>\n",
       "      <td>...</td>\n",
       "      <td>...</td>\n",
       "    </tr>\n",
       "    <tr>\n",
       "      <th>367</th>\n",
       "      <td>1</td>\n",
       "      <td>9</td>\n",
       "      <td>0</td>\n",
       "      <td>51.375793</td>\n",
       "      <td>0.136256</td>\n",
       "      <td>0.0</td>\n",
       "    </tr>\n",
       "    <tr>\n",
       "      <th>368</th>\n",
       "      <td>2</td>\n",
       "      <td>5</td>\n",
       "      <td>0</td>\n",
       "      <td>49.931450</td>\n",
       "      <td>0.107029</td>\n",
       "      <td>0.0</td>\n",
       "    </tr>\n",
       "    <tr>\n",
       "      <th>369</th>\n",
       "      <td>2</td>\n",
       "      <td>4</td>\n",
       "      <td>0</td>\n",
       "      <td>50.180573</td>\n",
       "      <td>0.124320</td>\n",
       "      <td>0.0</td>\n",
       "    </tr>\n",
       "    <tr>\n",
       "      <th>370</th>\n",
       "      <td>2</td>\n",
       "      <td>5</td>\n",
       "      <td>0</td>\n",
       "      <td>49.762260</td>\n",
       "      <td>0.108120</td>\n",
       "      <td>0.0</td>\n",
       "    </tr>\n",
       "    <tr>\n",
       "      <th>371</th>\n",
       "      <td>2</td>\n",
       "      <td>5</td>\n",
       "      <td>0</td>\n",
       "      <td>49.824959</td>\n",
       "      <td>0.102108</td>\n",
       "      <td>0.0</td>\n",
       "    </tr>\n",
       "  </tbody>\n",
       "</table>\n",
       "<p>372 rows × 6 columns</p>\n",
       "</div>"
      ],
      "text/plain": [
       "     NSS  MCS  GI  throughput  airtime_per  other_per\n",
       "0      2    6   1   51.055077     0.075920        0.0\n",
       "1      2    7   1   50.742508     0.093920        0.0\n",
       "2      1    9   1   51.897148     0.093228        0.0\n",
       "3      2    8   1   49.850716     0.095052        0.0\n",
       "4      2    5   1   51.727776     0.100688        0.0\n",
       "..   ...  ...  ..         ...          ...        ...\n",
       "367    1    9   0   51.375793     0.136256        0.0\n",
       "368    2    5   0   49.931450     0.107029        0.0\n",
       "369    2    4   0   50.180573     0.124320        0.0\n",
       "370    2    5   0   49.762260     0.108120        0.0\n",
       "371    2    5   0   49.824959     0.102108        0.0\n",
       "\n",
       "[372 rows x 6 columns]"
      ]
     },
     "execution_count": 12,
     "metadata": {},
     "output_type": "execute_result"
    }
   ],
   "source": [
    "import pandas as pd\n",
    "import numpy as np\n",
    "import matplotlib.pyplot as plt\n",
    "%matplotlib inline\n",
    "\n",
    "from sklearn.model_selection import KFold\n",
    "from sklearn.tree import DecisionTreeClassifier\n",
    "from sklearn.metrics import recall_score, precision_score, f1_score\n",
    "from sklearn.metrics import confusion_matrix, ConfusionMatrixDisplay\n",
    "\n",
    "import joblib\n",
    "\n",
    "import warnings\n",
    "warnings.filterwarnings(\"ignore\")\n",
    "\n",
    "column_name = ['NSS', 'MCS', 'GI', 'throughput', 'airtime_per', 'other_per']\n",
    "dataset = pd.read_csv('network_trace.txt', sep=\" \", names=column_name, header=None)\n",
    "dataset"
   ]
  },
  {
   "attachments": {},
   "cell_type": "markdown",
   "metadata": {},
   "source": [
    "## Data Preprocessing\n",
    "* Most of the preprocessing is done in the publisher.py / subscriber.py.\n",
    "* The label is from the next second's throughput\n",
    "    * If throughput >= 60 Mbps, then quality = 0 (1080p)\n",
    "    * 60 > tp >= 40, quality = 1 (900p)\n",
    "    * 40 > tp >= 30, quality = 2 (720p)\n",
    "    * 30 > tp >= 20, quality = 3 (540p)\n",
    "    * 20 > tp      , quality = 4 (360p)"
   ]
  },
  {
   "cell_type": "code",
   "execution_count": 13,
   "metadata": {},
   "outputs": [
    {
     "name": "stdout",
     "output_type": "stream",
     "text": [
      "[0, 0, 1, 0, 0, 1, 0, 0, 1, 0, 1, 1, 0, 1, 1, 0, 1, 0, 1, 1, 0, 0, 0, 1, 1, 0, 1, 1, 0, 1, 0, 1, 0, 1, 0, 0, 1, 0, 1, 0, 0, 1, 1, 2, 1, 2, 1, 2, 4, 3, 3, 4, 3, 3, 4, 4, 4, 4, 3, 4, 4, 4, 3, 4, 3, 2, 2, 2, 1, 0, 1, 0, 1, 0, 1, 0, 1, 1, 0, 1, 0, 1, 2, 1, 1, 2, 2, 3, 1, 1, 1, 3, 2, 2, 2, 1, 1, 1, 2, 2, 1, 3, 3, 3, 2, 4, 4, 2, 4, 4, 4, 3, 1, 1, 1, 2, 1, 1, 1, 1, 1, 1, 1, 1, 1, 1, 1, 1, 2, 1, 1, 1, 2, 1, 1, 2, 2, 2, 1, 1, 1, 2, 1, 1, 1, 2, 2, 2, 2, 2, 2, 2, 2, 2, 2, 2, 2, 2, 2, 3, 2, 2, 2, 3, 2, 4, 3, 4, 4, 3, 3, 3, 2, 3, 2, 2, 2, 2, 2, 2, 2, 2, 2, 2, 2, 2, 2, 2, 2, 2, 2, 2, 2, 2, 2, 2, 2, 2, 2, 2, 0, 1, 0, 1, 0, 0, 0, 0, 0, 0, 0, 0, 1, 1, 1, 1, 1, 2, 4, 3, 3, 3, 4, 3, 4, 4, 4, 4, 4, 4, 4, 4, 4, 4, 4, 4, 3, 3, 3, 2, 3, 2, 2, 0, 1, 0, 1, 0, 1, 1, 1, 2, 3, 4, 3, 4, 4, 4, 4, 3, 3, 2, 3, 2, 2, 2, 2, 2, 2, 2, 3, 4, 4, 4, 3, 4, 3, 3, 3, 1, 0, 1, 1, 2, 0, 0, 0, 0, 0, 1, 3, 3, 3, 4, 4, 4, 4, 4, 4, 4, 4, 4, 4, 4, 4, 4, 4, 3, 1, 4, 4, 2, 1, 1, 3, 4, 3, 4, 2, 2, 1, 1, 1, 1, 1, 1, 1, 0, 0, 0, 1, 3, 2, 2, 2, 4, 4, 4, 4, 4, 4, 4, 4, 4, 4, 4, 4, 3, 3, 4, 4, 4, 4, 3, 2, 4, 3, 3, 3, 2, 1, 1, 0, 0, 0, 1, 0, 1, 0, 1, 1, 0]\n"
     ]
    }
   ],
   "source": [
    "label = []\n",
    "for i in range(1, len(dataset)):\n",
    "    if(dataset.at[i, 'throughput'] >= 50):\n",
    "        label.append(0)\n",
    "    elif(dataset.at[i, 'throughput'] >= 40):\n",
    "        label.append(1)\n",
    "    elif(dataset.at[i, 'throughput'] >= 30):\n",
    "        label.append(2)\n",
    "    elif(dataset.at[i, 'throughput'] >= 20):\n",
    "        label.append(3)\n",
    "    else:\n",
    "        label.append(4)\n",
    "label.append(0)\n",
    "dataset['label'] = label\n",
    "dataset\n",
    "print(label)"
   ]
  },
  {
   "cell_type": "code",
   "execution_count": 14,
   "metadata": {},
   "outputs": [
    {
     "data": {
      "text/html": [
       "<div>\n",
       "<style scoped>\n",
       "    .dataframe tbody tr th:only-of-type {\n",
       "        vertical-align: middle;\n",
       "    }\n",
       "\n",
       "    .dataframe tbody tr th {\n",
       "        vertical-align: top;\n",
       "    }\n",
       "\n",
       "    .dataframe thead th {\n",
       "        text-align: right;\n",
       "    }\n",
       "</style>\n",
       "<table border=\"1\" class=\"dataframe\">\n",
       "  <thead>\n",
       "    <tr style=\"text-align: right;\">\n",
       "      <th></th>\n",
       "      <th>NSS</th>\n",
       "      <th>MCS</th>\n",
       "      <th>GI</th>\n",
       "      <th>airtime_per</th>\n",
       "      <th>other_per</th>\n",
       "      <th>label</th>\n",
       "    </tr>\n",
       "  </thead>\n",
       "  <tbody>\n",
       "    <tr>\n",
       "      <th>0</th>\n",
       "      <td>1</td>\n",
       "      <td>5</td>\n",
       "      <td>1</td>\n",
       "      <td>0.112004</td>\n",
       "      <td>0.569440</td>\n",
       "      <td>2</td>\n",
       "    </tr>\n",
       "    <tr>\n",
       "      <th>1</th>\n",
       "      <td>2</td>\n",
       "      <td>1</td>\n",
       "      <td>1</td>\n",
       "      <td>0.378048</td>\n",
       "      <td>0.000000</td>\n",
       "      <td>1</td>\n",
       "    </tr>\n",
       "    <tr>\n",
       "      <th>2</th>\n",
       "      <td>2</td>\n",
       "      <td>2</td>\n",
       "      <td>1</td>\n",
       "      <td>0.147228</td>\n",
       "      <td>0.526984</td>\n",
       "      <td>4</td>\n",
       "    </tr>\n",
       "    <tr>\n",
       "      <th>3</th>\n",
       "      <td>2</td>\n",
       "      <td>1</td>\n",
       "      <td>0</td>\n",
       "      <td>0.367687</td>\n",
       "      <td>0.000000</td>\n",
       "      <td>1</td>\n",
       "    </tr>\n",
       "    <tr>\n",
       "      <th>4</th>\n",
       "      <td>2</td>\n",
       "      <td>3</td>\n",
       "      <td>0</td>\n",
       "      <td>0.149292</td>\n",
       "      <td>0.545252</td>\n",
       "      <td>2</td>\n",
       "    </tr>\n",
       "    <tr>\n",
       "      <th>...</th>\n",
       "      <td>...</td>\n",
       "      <td>...</td>\n",
       "      <td>...</td>\n",
       "      <td>...</td>\n",
       "      <td>...</td>\n",
       "      <td>...</td>\n",
       "    </tr>\n",
       "    <tr>\n",
       "      <th>366</th>\n",
       "      <td>1</td>\n",
       "      <td>9</td>\n",
       "      <td>1</td>\n",
       "      <td>0.070604</td>\n",
       "      <td>0.486288</td>\n",
       "      <td>1</td>\n",
       "    </tr>\n",
       "    <tr>\n",
       "      <th>367</th>\n",
       "      <td>2</td>\n",
       "      <td>5</td>\n",
       "      <td>1</td>\n",
       "      <td>0.087300</td>\n",
       "      <td>0.000000</td>\n",
       "      <td>0</td>\n",
       "    </tr>\n",
       "    <tr>\n",
       "      <th>368</th>\n",
       "      <td>2</td>\n",
       "      <td>6</td>\n",
       "      <td>1</td>\n",
       "      <td>0.115320</td>\n",
       "      <td>0.390916</td>\n",
       "      <td>1</td>\n",
       "    </tr>\n",
       "    <tr>\n",
       "      <th>369</th>\n",
       "      <td>2</td>\n",
       "      <td>2</td>\n",
       "      <td>1</td>\n",
       "      <td>0.280248</td>\n",
       "      <td>0.000000</td>\n",
       "      <td>1</td>\n",
       "    </tr>\n",
       "    <tr>\n",
       "      <th>370</th>\n",
       "      <td>1</td>\n",
       "      <td>2</td>\n",
       "      <td>1</td>\n",
       "      <td>0.149268</td>\n",
       "      <td>0.526155</td>\n",
       "      <td>4</td>\n",
       "    </tr>\n",
       "  </tbody>\n",
       "</table>\n",
       "<p>371 rows × 6 columns</p>\n",
       "</div>"
      ],
      "text/plain": [
       "     NSS  MCS  GI  airtime_per  other_per  label\n",
       "0      1    5   1     0.112004   0.569440      2\n",
       "1      2    1   1     0.378048   0.000000      1\n",
       "2      2    2   1     0.147228   0.526984      4\n",
       "3      2    1   0     0.367687   0.000000      1\n",
       "4      2    3   0     0.149292   0.545252      2\n",
       "..   ...  ...  ..          ...        ...    ...\n",
       "366    1    9   1     0.070604   0.486288      1\n",
       "367    2    5   1     0.087300   0.000000      0\n",
       "368    2    6   1     0.115320   0.390916      1\n",
       "369    2    2   1     0.280248   0.000000      1\n",
       "370    1    2   1     0.149268   0.526155      4\n",
       "\n",
       "[371 rows x 6 columns]"
      ]
     },
     "execution_count": 14,
     "metadata": {},
     "output_type": "execute_result"
    }
   ],
   "source": [
    "# drop first row because the label is not correct\n",
    "dataset = dataset.drop(dataset.index[-1], axis=0)\n",
    "\n",
    "# drop the throughput column, which is replaced by the quality\n",
    "dataset = dataset.drop(['throughput'], axis=1)\n",
    "\n",
    "# Shuffle the data.\n",
    "dataset = dataset.sample(frac=1).reset_index(drop=True)\n",
    "dataset"
   ]
  },
  {
   "attachments": {},
   "cell_type": "markdown",
   "metadata": {},
   "source": [
    "## Data Visualization"
   ]
  },
  {
   "cell_type": "code",
   "execution_count": 15,
   "metadata": {},
   "outputs": [
    {
     "data": {
      "image/png": "[encoded data removed]",
      "text/plain": [
       "<Figure size 1680x700 with 6 Axes>"
      ]
     },
     "metadata": {},
     "output_type": "display_data"
    }
   ],
   "source": [
    "index = 0\n",
    "plt.figure(figsize=(16.8, 7))\n",
    "for feature in dataset:\n",
    "    plt.subplot(2, 3, index + 1)\n",
    "    # numeric features\n",
    "    if feature == 'airtime_per' or feature == 'other_per':\n",
    "        plt.hist(dataset[feature], bins=10, range=[dataset[feature].min(), dataset[feature].max()])\n",
    "        plt.title(feature)\n",
    "    # symbolic features\n",
    "    else:\n",
    "        tmp_col = dataset[feature].astype(str)\n",
    "        labels, i=np.unique(tmp_col, return_index=True)\n",
    "        counts=[]\n",
    "        for j in range(0,len(labels)):\n",
    "            counts.append(tmp_col.tolist().count(labels[j]))\n",
    "        plt.bar(labels, counts)\n",
    "        plt.title(feature)\n",
    "    index += 1\n",
    "plt.savefig('data_visualization.png', bbox_inches='tight')"
   ]
  },
  {
   "attachments": {},
   "cell_type": "markdown",
   "metadata": {},
   "source": [
    "## Model Construction and Performance\n",
    "#### Decision Tree"
   ]
  },
  {
   "cell_type": "code",
   "execution_count": 16,
   "metadata": {},
   "outputs": [
    {
     "name": "stdout",
     "output_type": "stream",
     "text": [
      "iteration #1 Recall: [0.30769231 0.46875    0.41666667 0.23529412 0.26923077]\n",
      "iteration #1 Precision: [0.25       0.48387097 0.46875    0.14285714 0.41176471]\n",
      "iteration #1 F1-Score: [0.27586207 0.47619048 0.44117647 0.17777778 0.3255814 ]\n",
      "\n",
      "iteration #2 Recall: [0.39130435 0.5        0.42857143 0.16666667 0.44827586]\n",
      "iteration #2 Precision: [0.42857143 0.53333333 0.4137931  0.1        0.54166667]\n",
      "iteration #2 F1-Score: [0.40909091 0.51612903 0.42105263 0.125      0.49056604]\n",
      "\n",
      "iteration #3 Recall: [0.57894737 0.54285714 0.34615385 0.13636364 0.47619048]\n",
      "iteration #3 Precision: [0.5        0.48717949 0.34615385 0.23076923 0.43478261]\n",
      "iteration #3 F1-Score: [0.53658537 0.51351351 0.34615385 0.17142857 0.45454545]\n",
      "\n"
     ]
    }
   ],
   "source": [
    "y_train = dataset['label']\n",
    "X_train = dataset.drop(['label'], axis=1)\n",
    "\n",
    "k_fold = KFold(n_splits=3)\n",
    "k_fold.get_n_splits(X_train)\n",
    "\n",
    "iteration = 1\n",
    "clf = DecisionTreeClassifier(criterion=\"entropy\")\n",
    "for train_index, validation_index in k_fold.split(X_train):\n",
    "    x_train_cv, x_validation_cv = X_train.values[train_index], X_train.values[validation_index]\n",
    "    y_train_cv, y_validation_cv = y_train[train_index], y_train[validation_index]\n",
    "    \n",
    "    clf.fit(x_train_cv, y_train_cv)\n",
    "    y_predict_cv = clf.predict(x_validation_cv)\n",
    "    \n",
    "    print(f'iteration #{iteration} Recall: {recall_score(y_validation_cv, y_predict_cv, average=None)}')\n",
    "    print(f'iteration #{iteration} Precision: {precision_score(y_validation_cv, y_predict_cv, average=None)}')\n",
    "    print(f'iteration #{iteration} F1-Score: {f1_score(y_validation_cv, y_predict_cv, average=None)}')\n",
    "    iteration += 1\n",
    "    print()"
   ]
  },
  {
   "attachments": {},
   "cell_type": "markdown",
   "metadata": {},
   "source": [
    "#### Performance"
   ]
  },
  {
   "cell_type": "code",
   "execution_count": 17,
   "metadata": {},
   "outputs": [
    {
     "name": "stdout",
     "output_type": "stream",
     "text": [
      "Recall: [0.85455 0.83838 0.81111 0.62745 0.85526]\n",
      "Precision: [0.81034 0.80583 0.81111 0.7619  0.83333]\n",
      "F1-Score: [0.83186 0.82178 0.81111 0.68817 0.84416]\n",
      "Average: 0.79735, 0.8045, 0.79942\n"
     ]
    },
    {
     "data": {
      "image/png": "[encoded data removed]",
      "text/plain": [
       "<Figure size 640x480 with 2 Axes>"
      ]
     },
     "metadata": {},
     "output_type": "display_data"
    }
   ],
   "source": [
    "y_pred = clf.predict(X_train)\n",
    "\n",
    "conf_matrix = confusion_matrix(y_true=y_train, y_pred=y_pred)\n",
    "\n",
    "recall = recall_score(y_train, y_pred, average=None)\n",
    "precision = precision_score(y_train, y_pred, average=None)\n",
    "f1 = f1_score(y_train, y_pred, average=None)\n",
    "\n",
    "print(f'Recall: {np.round(recall, 5)}')\n",
    "print(f'Precision: {np.round(precision, 5)}')\n",
    "print(f'F1-Score: {np.round(f1, 5)}')\n",
    "print(f'Average: {np.round(np.average(recall), 5)}, {np.round(np.average(precision), 5)}, {np.round(np.average(f1), 5)}')\n",
    "\n",
    "titles = ['Decision Tree']\n",
    "f, axes = plt.subplots()\n",
    "\n",
    "for i in range(0,1):\n",
    "    disp = ConfusionMatrixDisplay(conf_matrix, display_labels=labels)\n",
    "    disp.plot(ax=axes)\n",
    "    disp.ax_.set_title(titles[i])\n",
    "    disp.im_.colorbar.remove()\n",
    "    disp.ax_.set_xlabel('')\n",
    "    disp.ax_.set_ylabel('')\n",
    "\n",
    "f.colorbar(disp.im_, ax=axes)\n",
    "plt.savefig('confusion_matrix.png', bbox_inches='tight')\n",
    "plt.show()"
   ]
  },
  {
   "attachments": {},
   "cell_type": "markdown",
   "metadata": {},
   "source": [
    "## Modeling Saving\n",
    "* Save the ML model as file to be imported by the adaptation module."
   ]
  },
  {
   "cell_type": "code",
   "execution_count": 18,
   "metadata": {},
   "outputs": [
    {
     "data": {
      "text/plain": [
       "['pre-trained_model']"
      ]
     },
     "execution_count": 18,
     "metadata": {},
     "output_type": "execute_result"
    }
   ],
   "source": [
    "joblib.dump(clf, 'pre-trained_model')"
   ]
  }
 ],
 "metadata": {
  "kernelspec": {
   "display_name": "Python 3",
   "language": "python",
   "name": "python3"
  },
  "language_info": {
   "codemirror_mode": {
    "name": "ipython",
    "version": 3
   },
   "file_extension": ".py",
   "mimetype": "text/x-python",
   "name": "python",
   "nbconvert_exporter": "python",
   "pygments_lexer": "ipython3",
   "version": "3.10.6"
  },
  "orig_nbformat": 4,
  "vscode": {
   "interpreter": {
    "hash": "916dbcbb3f70747c44a77c7bcd40155683ae19c65e1c03b4aa3499c5328201f1"
   }
  }
 },
 "nbformat": 4,
 "nbformat_minor": 2
}
